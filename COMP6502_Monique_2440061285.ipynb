{
 "metadata": {
  "language_info": {
   "codemirror_mode": {
    "name": "ipython",
    "version": 3
   },
   "file_extension": ".py",
   "mimetype": "text/x-python",
   "name": "python",
   "nbconvert_exporter": "python",
   "pygments_lexer": "ipython3",
   "version": "3.8.3-final"
  },
  "orig_nbformat": 2,
  "kernelspec": {
   "name": "python3",
   "display_name": "Python 3.8.3 64-bit",
   "metadata": {
    "interpreter": {
     "hash": "94208bf6ff12f79096eeb7a3fea3609fc989b652079ce2a92b116f62a5a381ea"
    }
   }
  }
 },
 "nbformat": 4,
 "nbformat_minor": 2,
 "cells": [
  {
   "cell_type": "code",
   "execution_count": null,
   "metadata": {},
   "outputs": [],
   "source": [
    "# Number 1\n",
    "class Toys():\n",
    "    def __init__(self, name, stockcode, manufacturer, price, stock, quantity):\n",
    "        \n",
    "        self.__name = name\n",
    "        self.__stockcode = stockcode\n",
    "        self.__manufacturer = manufacturer\n",
    "        self.__price = price\n",
    "        self.__stock = stock\n",
    "\n",
    "        #Add new attribute for number 6 quantity is not in the question\n",
    "        self.__quantity = quantity\n",
    "\n",
    "    #Getter of the attributes\n",
    "    def getName(self):\n",
    "        return self.__name\n",
    "\n",
    "    def getStockcode(self):\n",
    "        return self.__stockcode\n",
    "\n",
    "    def getManufacturer(self):\n",
    "        return self.__manufacturer\n",
    "    \n",
    "    def getPrice(self):\n",
    "        return self.__price\n",
    "\n",
    "    def getStock(self):\n",
    "        return self.__stock\n",
    "\n",
    "    #adding for number 6\n",
    "    def getQuantity(self):\n",
    "        return self.__quantity\n",
    "\n",
    "    #attribute setter\n",
    "    def setName(self, name):\n",
    "        self.__name = name\n",
    "\n",
    "    def setStockcode(self, stockcode):\n",
    "        self.__stockcode = stockcode\n",
    "\n",
    "    def setManufacturer(self, manufacturer):\n",
    "        self.__manufacturer = manufacturer\n",
    "    \n",
    "    def setPrice(self, price):\n",
    "        self.__price = price\n",
    "\n",
    "    def setStock(self, stock):\n",
    "        self.__stock = stock\n",
    "\n",
    "    #adding for number 6\n",
    "    def setQuantity(self, quantity):\n",
    "        self.__quantity = quantity\n",
    "\n",
    "    # string is set this way so it is easier to split and strip the lines from the text file\n",
    "    def __str__(self):\n",
    "        return f\"{self.__name}#{self.__stockcode}#{self.__manufacturer}#{self.__price}#{self.__stock}#{self.__quantity}\""
   ]
  },
  {
   "cell_type": "code",
   "execution_count": null,
   "metadata": {},
   "outputs": [],
   "source": [
    "# Number 2\n",
    "def add_toy(filename):\n",
    "\n",
    "    #using user input to get the arguments\n",
    "    name = input(\"Enter the name of the new toy: \")\n",
    "    stockcode = input(\"Enter the stock code of the new toy (SWXXXX): \")\n",
    "    manufacturer = input(\"Enter the manufacturer of the new toy: \")\n",
    "    price = input(\"Enter the price of the new toy: $\")\n",
    "    stock = input(\"Is the new toy in stock? (In Stock/Date of stock): \")\n",
    "\n",
    "    #added a new attribute for question 6\n",
    "    quantity = eval(input(\"Enter the quantity of the stock: \"))\n",
    "\n",
    "    #adding the $ sign to the price\n",
    "    price = '$' + price\n",
    "\n",
    "    # Making the toy a class\n",
    "    new_toy = Toys(name, stockcode, manufacturer, price, stock, quantity)\n",
    "\n",
    "    #appending the class to the text file as a string\n",
    "    with open(filename, \"a\") as f:\n",
    "        f.write(new_toy.__str__()+\"\\n\")\n",
    "\n"
   ]
  },
  {
   "cell_type": "code",
   "execution_count": null,
   "metadata": {},
   "outputs": [],
   "source": [
    "add_toy(\"toyinventory.txt\")"
   ]
  },
  {
   "cell_type": "code",
   "execution_count": null,
   "metadata": {},
   "outputs": [],
   "source": [
    "# Number 3\n",
    "toy_list = []\n",
    "# This function is to be run every time the app is run\n",
    "def load_toy(filename):\n",
    "    data = []\n",
    "    with open(filename) as f:\n",
    "        toys = f.readlines()\n",
    "        # loop to split the attributes according to the seperator which is hashtag\n",
    "        for toy in toys:\n",
    "            data.append(toy.split(\"#\"))\n",
    "    for toy_details in data:\n",
    "        toy_list.append(Toys(toy_details[0], toy_details[1], toy_details[2], toy_details[3], toy_details[4], toy_details[5].strip(\"\\n\")))\n",
    "    return toy_list\n"
   ]
  },
  {
   "cell_type": "code",
   "execution_count": null,
   "metadata": {},
   "outputs": [],
   "source": [
    "load_toy(\"toyinventory.txt\")"
   ]
  },
  {
   "cell_type": "code",
   "execution_count": null,
   "metadata": {},
   "outputs": [],
   "source": [
    "# Number 4\n",
    "def search_toy():\n",
    "    #user input to get stock code\n",
    "    stockcode = input(\"Enter the Stock Code of the toy you want to search/update: \")\n",
    "\n",
    "    #for loop to search the stock code\n",
    "    for toys in toy_list:\n",
    "        if toys.getStockcode() == stockcode:\n",
    "            return toy_list.index(toys)\n",
    "    return \"Stock Code not Found.\"\n"
   ]
  },
  {
   "cell_type": "code",
   "execution_count": null,
   "metadata": {},
   "outputs": [],
   "source": [
    "search_toy()"
   ]
  },
  {
   "cell_type": "code",
   "execution_count": null,
   "metadata": {},
   "outputs": [],
   "source": [
    "# Number 5\n",
    "def update_toy():\n",
    "    #using function from previous number\n",
    "    index_toy = search_toy()\n",
    "\n",
    "    #print some information and guide for the user input\n",
    "    print(\"\\nBelow is the data of the toy, type in the new changes for each category, if nothing is to be changed, press enter immediately.\")\n",
    "    print(f\"\\nName: {toy_list[index_toy].getName()}\\nStock Code: {toy_list[index_toy].getStockcode()}\\nManufacturer: {toy_list[index_toy].getManufacturer()}\\nPrice: {toy_list[index_toy].getPrice()}\\nStock: {toy_list[index_toy].getStock()}\\nQuantity: {toy_list[index_toy].getQuantity()}\")\n",
    "\n",
    "    # user input for the update and using the setter to update the attribute value of the object\n",
    "    name = input(f\"\\nName: \")\n",
    "    if name == \"\":\n",
    "        name = toy_list[index_toy].getName()\n",
    "\n",
    "    stockcode = input(f\"Stock Code: \")\n",
    "    if stockcode == \"\":\n",
    "        stockcode = toy_list[index_toy].getStockcode()\n",
    "\n",
    "    manufacturer = input(f\"Manufacturer: \")\n",
    "    if manufacturer == \"\":\n",
    "        manufacturer = toy_list[index_toy].getManufacturer()\n",
    "\n",
    "    price = input(f\"Price: $\")\n",
    "    if price == \"\":\n",
    "        price = toy_list[index_toy].getPrice()\n",
    "    else:\n",
    "        price = '$' + price\n",
    "\n",
    "    stock = input(f\"Stock: \")\n",
    "    if stock == \"\":\n",
    "        stock = toy_list[index_toy].getStock()\n",
    "\n",
    "    #added for number 6\n",
    "    quantity = input(f\"Quantity: \")\n",
    "    if quantity == \"\":\n",
    "        quantity = toy_list[index_toy].getQuantity()\n",
    "\n",
    "    updated_toy = Toys(name, stockcode, manufacturer, price, stock, quantity)\n",
    "\n",
    "    #Rewriting the value of the list with that index with the updated toy details\n",
    "    toy_list[index_toy] = updated_toy\n",
    "    \n",
    "    print(f\"\\nSuccessfully saved the new details!\\nUpdated Details\\nName: {toy_list[index_toy].getName()}\\nStock Code: {toy_list[index_toy].getStockcode()}\\nManufacturer: {toy_list[index_toy].getManufacturer()}\\nPrice: {toy_list[index_toy].getPrice()}\\nStock: {toy_list[index_toy].getStock()}\\nQuantity: {toy_list[index_toy].getQuantity()}\")\n",
    "    return toy_list"
   ]
  },
  {
   "cell_type": "code",
   "execution_count": null,
   "metadata": {},
   "outputs": [],
   "source": [
    "update_toy()"
   ]
  },
  {
   "cell_type": "code",
   "execution_count": null,
   "metadata": {},
   "outputs": [],
   "source": [
    "# Number 6\n",
    "def purchase(stockcode, quantity):\n",
    "     for toys in toy_list:\n",
    "        if toys.getStockcode() == stockcode:\n",
    "            # Substracting the quantity from the object\n",
    "            toys.setQuantity(int(toys.getQuantity()) - quantity)\n",
    "            return f\"Name: {toys.getName()}\\nPrice: {toys.getPrice()}\"\n",
    " "
   ]
  },
  {
   "cell_type": "code",
   "execution_count": null,
   "metadata": {},
   "outputs": [],
   "source": [
    "print(purchase(\"SW0001\",2))"
   ]
  },
  {
   "cell_type": "code",
   "execution_count": null,
   "metadata": {},
   "outputs": [],
   "source": [
    "# Number 7\n",
    "def display():\n",
    "    for toy in toy_list:\n",
    "        #using loop to go through the list and printing all the attribute values using getter\n",
    "        print(f\"Toy List Record\\n\\nName: {toy.getName()}\\nStock Code: {toy.getStockcode()}\\nManufacturer: {toy.getManufacturer()}\\nPrice: {toy.getPrice()}\\nStock: {toy.getStock()}\\nQuantity: {toy.getQuantity()}\")"
   ]
  },
  {
   "cell_type": "code",
   "execution_count": null,
   "metadata": {},
   "outputs": [],
   "source": [
    "display()"
   ]
  },
  {
   "cell_type": "code",
   "execution_count": null,
   "metadata": {},
   "outputs": [],
   "source": [
    "# Number 8\n",
    "def Exit(filename):\n",
    "    #saving the most updated toy list to the txt file and closing the python program\n",
    "    with open(filename, \"w\") as f:\n",
    "        for toys in toy_list:\n",
    "            f.write(toys.__str__()+\"\\n\")\n",
    "    print(\"Saved Successfully!\")"
   ]
  },
  {
   "cell_type": "code",
   "execution_count": null,
   "metadata": {},
   "outputs": [],
   "source": [
    "Exit(\"toyinventory.txt\")"
   ]
  }
 ]
}